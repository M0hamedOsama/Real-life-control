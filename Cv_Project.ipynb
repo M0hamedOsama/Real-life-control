{
 "cells": [
  {
   "cell_type": "markdown",
   "id": "2b954ec8-bf2d-4bc7-8ba4-d5beb53819d8",
   "metadata": {},
   "source": [
    "## 1. import libraries"
   ]
  },
  {
   "cell_type": "code",
   "execution_count": 3,
   "id": "8d9e6b0f-21b7-494e-a85b-e1e8477c6a8a",
   "metadata": {},
   "outputs": [],
   "source": [
    "import mediapipe as mp \n",
    "import numpy as np      \n",
    "import pyautogui        \n",
    "import cv2              \n",
    "import time             "
   ]
  },
  {
   "cell_type": "markdown",
   "id": "078f8c9e-ffc0-4544-86a5-378fe234d464",
   "metadata": {},
   "source": [
    "## 2. Definition of constants"
   ]
  },
  {
   "cell_type": "code",
   "execution_count": 4,
   "id": "5e836a35-7003-4598-9efd-e8377859486c",
   "metadata": {},
   "outputs": [],
   "source": [
    "jumpThresh = 80\n",
    "prevHeight = 0\n",
    "newHeight = 0\n",
    "keyAlreadydown = False\n",
    "keyAlreadyup = True\n",
    "pressSpace = False\n",
    "startt = 0\n",
    "endt = 0\n",
    "arr = np.zeros((10))"
   ]
  },
  {
   "cell_type": "markdown",
   "id": "4722de83-6c3b-49ac-9d09-7e2c25616bbd",
   "metadata": {},
   "source": [
    "## 3. Setting up the Mediapipe library"
   ]
  },
  {
   "cell_type": "code",
   "execution_count": 7,
   "id": "ea213210-03c3-4885-a776-5e2b0c2ade5a",
   "metadata": {},
   "outputs": [],
   "source": [
    "pose = mp.solutions.pose\n",
    "drawing = mp.solutions.drawing_utils\n",
    "poseC = pose.Pose()\n",
    "cap = cv2.VideoCapture(0)"
   ]
  },
  {
   "cell_type": "markdown",
   "id": "84409ddc-f6e8-4c18-8000-0380b81fb45f",
   "metadata": {},
   "source": [
    "## 4. Definition of functions"
   ]
  },
  {
   "cell_type": "code",
   "execution_count": 10,
   "id": "d8876d78-29ac-4f68-8a67-a221f303fda9",
   "metadata": {},
   "outputs": [],
   "source": [
    "def inFramecheck(LandmarkList):\n",
    "    return (LandmarkList[0].visibility > 0.7 and LandmarkList[19].visibility > 0.7)\n",
    "    \n",
    "def sumall(LandmarkList):\n",
    "    return sum(i.y * 480 for i in LandmarkList)\n",
    "\n",
    "def checkJump(LandmarkList):\n",
    "    return LandmarkList[0].y * 480 < jumpThresh\n",
    "\n",
    "def pcycle(v):\n",
    "    global arr\n",
    "    arr[1:] = arr[:-1]\n",
    "    arr[0] = v\n",
    "\n",
    "def sumofdiff():\n",
    "    return arr.sum()\n"
   ]
  },
  {
   "cell_type": "markdown",
   "id": "ab7ce55b-a918-41d4-b6ca-aad5316bbd6f",
   "metadata": {},
   "source": [
    "## 5. Main episode"
   ]
  },
  {
   "cell_type": "code",
   "execution_count": null,
   "id": "71d54173-c28d-4d07-8d7e-41928814a30e",
   "metadata": {},
   "outputs": [
    {
     "name": "stdout",
     "output_type": "stream",
     "text": [
      "key down\n",
      "Jump detected\n",
      "Jump detected\n",
      "Jump detected\n",
      "Jump detected\n",
      "Jump detected\n",
      "key is up now\n",
      "key down\n",
      "key is up now\n",
      "key down\n",
      "Jump detected\n",
      "key is up now\n",
      "key down\n",
      "Jump detected\n",
      "Jump detected\n",
      "Jump detected\n",
      "Jump detected\n",
      "Jump detected\n",
      "key is up now\n",
      "key down\n",
      "key is up now\n",
      "key down\n",
      "key is up now\n",
      "key down\n",
      "key is up now\n",
      "key down\n",
      "Jump detected\n",
      "Jump detected\n",
      "key is up now\n",
      "key down\n",
      "key is up now\n",
      "key down\n",
      "key is up now\n",
      "key down\n",
      "key is up now\n",
      "key down\n",
      "key is up now\n",
      "key down\n",
      "key is up now\n",
      "key down\n",
      "key is up now\n",
      "key down\n",
      "Jump detected\n",
      "Jump detected\n",
      "Jump detected\n",
      "Jump detected\n",
      "Jump detected\n",
      "key is up now\n",
      "key down\n",
      "key is up now\n",
      "key down\n",
      "key is up now\n",
      "key down\n",
      "key is up now\n",
      "key down\n",
      "key is up now\n",
      "key down\n",
      "key is up now\n",
      "key down\n",
      "key is up now\n",
      "key down\n",
      "key is up now\n",
      "key down\n",
      "key is up now\n",
      "key down\n",
      "key is up now\n",
      "key down\n",
      "Jump detected\n",
      "Jump detected\n",
      "Jump detected\n",
      "Jump detected\n",
      "Jump detected\n"
     ]
    }
   ],
   "source": [
    "try:\n",
    "    while True:\n",
    "        stime = time.time()\n",
    "        ret, frm = cap.read()\n",
    "        if not ret:\n",
    "            print(\"Failed to capture frame.\")\n",
    "            break\n",
    "\n",
    "        rgb = cv2.cvtColor(frm, cv2.COLOR_BGR2RGB)\n",
    "        frm = cv2.blur(frm, (5, 5))\n",
    "        cv2.line(frm, (0, jumpThresh), (640, jumpThresh), (255, 0, 0), 2)\n",
    "        res = poseC.process(rgb)\n",
    "\n",
    "        if res.pose_landmarks:\n",
    "            drawing.draw_landmarks(frm, res.pose_landmarks, pose.POSE_CONNECTIONS)\n",
    "\n",
    "            if inFramecheck(res.pose_landmarks.landmark):\n",
    "                newHeight = sumall(res.pose_landmarks.landmark)\n",
    "                pcycle(abs(newHeight - prevHeight))\n",
    "\n",
    "                # Key press logic\n",
    "                if sumofdiff() > 400:\n",
    "                    if not keyAlreadydown:\n",
    "                        pyautogui.keyDown(\"d\")\n",
    "                        print(\"key down\")\n",
    "                        keyAlreadydown = True\n",
    "                        keyAlreadyup = False\n",
    "                else:\n",
    "                    if not keyAlreadyup:\n",
    "                        pyautogui.keyUp(\"d\")\n",
    "                        print(\"key is up now\")\n",
    "                        keyAlreadyup = True\n",
    "                        keyAlreadydown = False\n",
    "                prevHeight = newHeight\n",
    "\n",
    "                # Jump detection\n",
    "                if checkJump(res.pose_landmarks.landmark) and not pressSpace:\n",
    "                    print(\"Jump detected\")\n",
    "                    pressSpace = True\n",
    "                    startt = time.time()\n",
    "                    pyautogui.keyDown(\"space\")\n",
    "\n",
    "                if pressSpace:\n",
    "                    endt = time.time()\n",
    "                    if endt - startt > 0.5:\n",
    "                        pyautogui.keyUp(\"space\")\n",
    "                        pressSpace = False\n",
    "            else:\n",
    "                cv2.putText(frm, \"You're not in Frame\", (30, 70), cv2.FONT_HERSHEY_SIMPLEX, 1, (0, 0, 255), 2)\n",
    "\n",
    "        # Display FPS\n",
    "        etime = time.time()\n",
    "        fps = int(1 / (etime - stime))\n",
    "        cv2.putText(frm, f\"FPS: {fps}\", (30, 30), cv2.FONT_HERSHEY_SIMPLEX, 1, (0, 255, 0), 2)\n",
    "        cv2.imshow(\"window\", frm)\n",
    "\n",
    "        # Exit on ESC\n",
    "        if cv2.waitKey(1) == 27:\n",
    "            break\n",
    "\n",
    "finally:\n",
    "    cap.release()\n",
    "    cv2.destroyAllWindows()\n",
    "    print(\"Resources released.\")"
   ]
  },
  {
   "cell_type": "markdown",
   "id": "10890e3d-0285-49c2-9a1a-9fe7a49c4077",
   "metadata": {},
   "source": [
    "# The End"
   ]
  },
  {
   "cell_type": "code",
   "execution_count": null,
   "id": "d69cce8d-02f5-46dc-bab0-89d63855c3ba",
   "metadata": {},
   "outputs": [],
   "source": []
  }
 ],
 "metadata": {
  "kernelspec": {
   "display_name": "Python 3 (ipykernel)",
   "language": "python",
   "name": "python3"
  },
  "language_info": {
   "codemirror_mode": {
    "name": "ipython",
    "version": 3
   },
   "file_extension": ".py",
   "mimetype": "text/x-python",
   "name": "python",
   "nbconvert_exporter": "python",
   "pygments_lexer": "ipython3",
   "version": "3.12.7"
  }
 },
 "nbformat": 4,
 "nbformat_minor": 5
}
